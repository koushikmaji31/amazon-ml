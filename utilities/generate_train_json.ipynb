{
 "cells": [
  {
   "cell_type": "code",
   "execution_count": null,
   "metadata": {},
   "outputs": [],
   "source": [
    "import csv\n",
    "import json\n",
    "\n",
    "def generate_json_from_csv(csv_file):\n",
    "    train_data = []\n",
    "    \n",
    "    with open(csv_file, newline='', encoding='utf-8') as file:\n",
    "        reader = csv.DictReader(file)\n",
    "        \n",
    "        for idx, row in enumerate(reader):\n",
    "            context = row['easyocr_text'] + ' ' + row['tesseract_text']\n",
    "            question = f\"What is the value of the {row['entity_name']}?\"\n",
    "            entity_value = row['entity_value']\n",
    "            answer_starts = row['ans_starting index'].split('_')\n",
    "            is_impossible = row['is_impossible'].lower() == 'true'\n",
    "            \n",
    "            answers = [{\"text\": entity_value, \"answer_start\": int(start)} for start in answer_starts if start.isdigit()]\n",
    "            \n",
    "            qas = {\n",
    "                \"id\": f\"{idx+1:05}\",\n",
    "                \"is_impossible\": is_impossible,\n",
    "                \"question\": question,\n",
    "                \"answers\": answers if not is_impossible else []\n",
    "            }\n",
    "            \n",
    "            train_data.append({\n",
    "                \"context\": context,\n",
    "                \"qas\": [qas]\n",
    "            })\n",
    "    \n",
    "    return train_data\n",
    "\n",
    "# Usage\n",
    "csv_file = \"./dataset/final_train.csv.csv\"  # Replace with your CSV file path\n",
    "json_data = generate_json_from_csv(csv_file)\n",
    "\n",
    "# Write to JSON file\n",
    "with open(\"train.json\", \"w\", encoding='utf-8') as json_file:\n",
    "    json.dump(json_data, json_file, ensure_ascii=False, indent=4)\n",
    "\n",
    "print(\"JSON data created successfully!\")\n"
   ]
  }
 ],
 "metadata": {
  "language_info": {
   "name": "python"
  }
 },
 "nbformat": 4,
 "nbformat_minor": 2
}
