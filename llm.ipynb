from PIL import Image

# Define the image path
image_path = "train_images/116R4t6IioL.jpg"

# Open and display the image
img = Image.open(image_path)
img.show()
