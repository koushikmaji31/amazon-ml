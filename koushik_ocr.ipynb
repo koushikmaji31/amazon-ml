{
 "cells": [
  {
   "cell_type": "code",
   "execution_count": null,
   "metadata": {},
   "outputs": [],
   "source": [
    "# pip install easyocr\n",
    "from warnings import filterwarnings\n",
    "filterwarnings(\"ignore\")\n",
    "import easyocr\n",
    "reader = easyocr.Reader(['en']) # this needs to run only once to load the model into memory\n",
    "result = reader.readtext('train_images/619cPZMqL7L.jpg',detail=0)\n",
    "result_string = ' '.join(result)\n",
    "print(result_string)"
   ]
  }
 ],
 "metadata": {
  "kernelspec": {
   "display_name": "Python 3",
   "language": "python",
   "name": "python3"
  },
  "language_info": {
   "name": "python",
   "version": "3.8.10"
  }
 },
 "nbformat": 4,
 "nbformat_minor": 2
}
