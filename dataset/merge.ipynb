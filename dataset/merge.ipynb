{
 "cells": [
  {
   "cell_type": "code",
   "execution_count": 6,
   "metadata": {},
   "outputs": [],
   "source": [
    "import pandas as pd\n",
    "\n",
    "train_df = pd.read_csv('/DATA1/ai23mtech12001/Amazon/amazon-ml/dataset/test.csv')\n",
    "easyocr_df = pd.read_csv('/DATA1/ai23mtech12001/Amazon/amazon-ml/outputs/easyocr_test_output.csv')\n",
    "tesseract_df = pd.read_csv('/DATA1/ai23mtech12001/Amazon/amazon-ml/outputs/output_new_tes_test.csv')\n"
   ]
  },
  {
   "cell_type": "code",
   "execution_count": 8,
   "metadata": {},
   "outputs": [
    {
     "name": "stdout",
     "output_type": "stream",
     "text": [
      "Merged CSV file has been created as 'final.csv'.\n"
     ]
    }
   ],
   "source": [
    "train_df['image_name'] = train_df['image_link'].apply(lambda x: x.split('/')[-1])\n",
    "\n",
    "easyocr_df.rename(columns={'Image Name': 'image_name', 'Extracted Text': 'easyocr_text'}, inplace=True)\n",
    "tesseract_df.rename(columns={'image_name': 'image_name', 'extracted_text': 'tesseract_text'}, inplace=True)\n",
    "\n",
    "merged_df = pd.merge(train_df, easyocr_df, on='image_name', how='left')\n",
    "merged_df = pd.merge(merged_df, tesseract_df, on='image_name', how='left')\n",
    "\n",
    "# Step 5: Replace NaN values with empty strings for 'easyocr_text' and 'tesseract_text'\n",
    "merged_df = merged_df.fillna({'easyocr_text': '', 'tesseract_text': ''})\n",
    "\n",
    "merged_df.to_csv('final_test.csv', index=False)\n",
    "\n",
    "print(\"Merged CSV file has been created as 'final.csv'.\")"
   ]
  }
 ],
 "metadata": {
  "kernelspec": {
   "display_name": "amazonml",
   "language": "python",
   "name": "python3"
  },
  "language_info": {
   "codemirror_mode": {
    "name": "ipython",
    "version": 3
   },
   "file_extension": ".py",
   "mimetype": "text/x-python",
   "name": "python",
   "nbconvert_exporter": "python",
   "pygments_lexer": "ipython3",
   "version": "3.9.19"
  }
 },
 "nbformat": 4,
 "nbformat_minor": 2
}
